{
 "cells": [
  {
   "cell_type": "code",
   "execution_count": 1,
   "metadata": {
    "slideshow": {
     "slide_type": "slide"
    }
   },
   "outputs": [],
   "source": [
    "import matplotlib.pyplot as plt\n",
    "import seaborn as sns\n",
    "import numpy as np\n",
    "import random\n",
    "import pandas as pd\n",
    "import itertools\n",
    "import importlib\n",
    "import mlintro_min as mli"
   ]
  },
  {
   "cell_type": "code",
   "execution_count": 2,
   "metadata": {
    "slideshow": {
     "slide_type": "fragment"
    }
   },
   "outputs": [],
   "source": [
    "%matplotlib inline"
   ]
  },
  {
   "cell_type": "markdown",
   "metadata": {
    "cell_style": "center",
    "slideshow": {
     "slide_type": "slide"
    }
   },
   "source": [
    "# Simple regression (OLS) model"
   ]
  },
  {
   "cell_type": "markdown",
   "metadata": {
    "slideshow": {
     "slide_type": "fragment"
    }
   },
   "source": [
    "Range of cannon angle psi to investigate"
   ]
  },
  {
   "cell_type": "code",
   "execution_count": 5,
   "metadata": {
    "slideshow": {
     "slide_type": "fragment"
    }
   },
   "outputs": [],
   "source": [
    "psi_min=20\n",
    "psi_max=60"
   ]
  },
  {
   "cell_type": "markdown",
   "metadata": {
    "slideshow": {
     "slide_type": "fragment"
    }
   },
   "source": [
    "Read pre-generated source of data"
   ]
  },
  {
   "cell_type": "code",
   "execution_count": 7,
   "metadata": {
    "slideshow": {
     "slide_type": "fragment"
    }
   },
   "outputs": [],
   "source": [
    "ref_df = pd.read_csv('datasets/offline/refdata_100K.csv')\n",
    "# Get a very small subset of inter-spread data for plotting\n",
    "ref_df_light = mli.get_ref_light(ref_df, psi_min=psi_min, psi_max=psi_max)"
   ]
  },
  {
   "cell_type": "markdown",
   "metadata": {
    "slideshow": {
     "slide_type": "subslide"
    }
   },
   "source": [
    "Generate a single dataset of 50 observations"
   ]
  },
  {
   "cell_type": "code",
   "execution_count": 8,
   "metadata": {
    "slideshow": {
     "slide_type": "fragment"
    }
   },
   "outputs": [],
   "source": [
    "np.random.seed(42)\n",
    "ds = mli.get_datasets(ref_df, n_datasets=1, sample_size=50, \n",
    "                      psi_min=psi_min, psi_max=psi_max)[0]"
   ]
  },
  {
   "cell_type": "markdown",
   "metadata": {
    "slideshow": {
     "slide_type": "subslide"
    }
   },
   "source": [
    "##### Explore dataset"
   ]
  },
  {
   "cell_type": "markdown",
   "metadata": {
    "slideshow": {
     "slide_type": "fragment"
    }
   },
   "source": [
    "We are only interested in experimental measures of angle and range, `exp_angle` and `exp_range` respectively"
   ]
  },
  {
   "cell_type": "code",
   "execution_count": 9,
   "metadata": {
    "scrolled": true,
    "slideshow": {
     "slide_type": "fragment"
    }
   },
   "outputs": [
    {
     "data": {
      "text/html": [
       "<div>\n",
       "<style scoped>\n",
       "    .dataframe tbody tr th:only-of-type {\n",
       "        vertical-align: middle;\n",
       "    }\n",
       "\n",
       "    .dataframe tbody tr th {\n",
       "        vertical-align: top;\n",
       "    }\n",
       "\n",
       "    .dataframe thead th {\n",
       "        text-align: right;\n",
       "    }\n",
       "</style>\n",
       "<table border=\"1\" class=\"dataframe\">\n",
       "  <thead>\n",
       "    <tr style=\"text-align: right;\">\n",
       "      <th></th>\n",
       "      <th>true_angle</th>\n",
       "      <th>true_range</th>\n",
       "      <th>exp_angle</th>\n",
       "      <th>exp_range</th>\n",
       "    </tr>\n",
       "  </thead>\n",
       "  <tbody>\n",
       "    <tr>\n",
       "      <th>55636</th>\n",
       "      <td>49.50156</td>\n",
       "      <td>73.748791</td>\n",
       "      <td>49.290586</td>\n",
       "      <td>76.708848</td>\n",
       "    </tr>\n",
       "    <tr>\n",
       "      <th>44400</th>\n",
       "      <td>41.52400</td>\n",
       "      <td>75.088014</td>\n",
       "      <td>42.412220</td>\n",
       "      <td>75.295328</td>\n",
       "    </tr>\n",
       "    <tr>\n",
       "      <th>65098</th>\n",
       "      <td>56.21958</td>\n",
       "      <td>68.648328</td>\n",
       "      <td>57.074914</td>\n",
       "      <td>69.804508</td>\n",
       "    </tr>\n",
       "    <tr>\n",
       "      <th>41969</th>\n",
       "      <td>39.79799</td>\n",
       "      <td>74.685302</td>\n",
       "      <td>38.595105</td>\n",
       "      <td>75.658031</td>\n",
       "    </tr>\n",
       "    <tr>\n",
       "      <th>41793</th>\n",
       "      <td>39.67303</td>\n",
       "      <td>74.646496</td>\n",
       "      <td>39.682778</td>\n",
       "      <td>74.806822</td>\n",
       "    </tr>\n",
       "    <tr>\n",
       "      <th>59123</th>\n",
       "      <td>51.97733</td>\n",
       "      <td>72.281949</td>\n",
       "      <td>52.628698</td>\n",
       "      <td>74.684523</td>\n",
       "    </tr>\n",
       "    <tr>\n",
       "      <th>46465</th>\n",
       "      <td>42.99015</td>\n",
       "      <td>75.235254</td>\n",
       "      <td>42.404804</td>\n",
       "      <td>78.694761</td>\n",
       "    </tr>\n",
       "    <tr>\n",
       "      <th>19928</th>\n",
       "      <td>24.14888</td>\n",
       "      <td>59.709266</td>\n",
       "      <td>24.658375</td>\n",
       "      <td>57.858609</td>\n",
       "    </tr>\n",
       "    <tr>\n",
       "      <th>58580</th>\n",
       "      <td>51.59180</td>\n",
       "      <td>72.542447</td>\n",
       "      <td>52.329337</td>\n",
       "      <td>72.761539</td>\n",
       "    </tr>\n",
       "    <tr>\n",
       "      <th>60167</th>\n",
       "      <td>52.71857</td>\n",
       "      <td>71.748129</td>\n",
       "      <td>53.935456</td>\n",
       "      <td>72.957270</td>\n",
       "    </tr>\n",
       "    <tr>\n",
       "      <th>30133</th>\n",
       "      <td>31.39443</td>\n",
       "      <td>69.167459</td>\n",
       "      <td>32.912192</td>\n",
       "      <td>69.428854</td>\n",
       "    </tr>\n",
       "    <tr>\n",
       "      <th>22577</th>\n",
       "      <td>26.02967</td>\n",
       "      <td>62.576189</td>\n",
       "      <td>25.775769</td>\n",
       "      <td>60.760919</td>\n",
       "    </tr>\n",
       "    <tr>\n",
       "      <th>29548</th>\n",
       "      <td>30.97908</td>\n",
       "      <td>68.741939</td>\n",
       "      <td>30.365898</td>\n",
       "      <td>70.221818</td>\n",
       "    </tr>\n",
       "    <tr>\n",
       "      <th>29949</th>\n",
       "      <td>31.26379</td>\n",
       "      <td>69.035164</td>\n",
       "      <td>29.514327</td>\n",
       "      <td>70.009436</td>\n",
       "    </tr>\n",
       "    <tr>\n",
       "      <th>31816</th>\n",
       "      <td>32.58936</td>\n",
       "      <td>70.311692</td>\n",
       "      <td>31.630315</td>\n",
       "      <td>67.935471</td>\n",
       "    </tr>\n",
       "    <tr>\n",
       "      <th>52629</th>\n",
       "      <td>47.36659</td>\n",
       "      <td>74.618063</td>\n",
       "      <td>46.952092</td>\n",
       "      <td>74.966987</td>\n",
       "    </tr>\n",
       "    <tr>\n",
       "      <th>32960</th>\n",
       "      <td>33.40160</td>\n",
       "      <td>71.021593</td>\n",
       "      <td>32.835453</td>\n",
       "      <td>73.834259</td>\n",
       "    </tr>\n",
       "    <tr>\n",
       "      <th>61234</th>\n",
       "      <td>53.47614</td>\n",
       "      <td>71.157954</td>\n",
       "      <td>52.466343</td>\n",
       "      <td>70.533402</td>\n",
       "    </tr>\n",
       "    <tr>\n",
       "      <th>58503</th>\n",
       "      <td>51.53713</td>\n",
       "      <td>72.578433</td>\n",
       "      <td>52.424419</td>\n",
       "      <td>73.275212</td>\n",
       "    </tr>\n",
       "    <tr>\n",
       "      <th>18699</th>\n",
       "      <td>23.27629</td>\n",
       "      <td>58.282658</td>\n",
       "      <td>22.225126</td>\n",
       "      <td>57.115907</td>\n",
       "    </tr>\n",
       "    <tr>\n",
       "      <th>32133</th>\n",
       "      <td>32.81443</td>\n",
       "      <td>70.513912</td>\n",
       "      <td>33.034569</td>\n",
       "      <td>71.350628</td>\n",
       "    </tr>\n",
       "    <tr>\n",
       "      <th>24793</th>\n",
       "      <td>27.60303</td>\n",
       "      <td>64.754149</td>\n",
       "      <td>27.436403</td>\n",
       "      <td>62.960507</td>\n",
       "    </tr>\n",
       "    <tr>\n",
       "      <th>15088</th>\n",
       "      <td>20.71248</td>\n",
       "      <td>53.741980</td>\n",
       "      <td>20.157355</td>\n",
       "      <td>52.660368</td>\n",
       "    </tr>\n",
       "    <tr>\n",
       "      <th>44979</th>\n",
       "      <td>41.93509</td>\n",
       "      <td>75.147326</td>\n",
       "      <td>41.818915</td>\n",
       "      <td>74.593968</td>\n",
       "    </tr>\n",
       "    <tr>\n",
       "      <th>15499</th>\n",
       "      <td>21.00429</td>\n",
       "      <td>54.284825</td>\n",
       "      <td>20.848535</td>\n",
       "      <td>53.555444</td>\n",
       "    </tr>\n",
       "    <tr>\n",
       "      <th>65801</th>\n",
       "      <td>56.71871</td>\n",
       "      <td>68.129822</td>\n",
       "      <td>56.605909</td>\n",
       "      <td>68.251995</td>\n",
       "    </tr>\n",
       "    <tr>\n",
       "      <th>55540</th>\n",
       "      <td>49.43340</td>\n",
       "      <td>73.782237</td>\n",
       "      <td>48.872826</td>\n",
       "      <td>72.590726</td>\n",
       "    </tr>\n",
       "    <tr>\n",
       "      <th>37656</th>\n",
       "      <td>36.73576</td>\n",
       "      <td>73.358339</td>\n",
       "      <td>36.539829</td>\n",
       "      <td>74.880141</td>\n",
       "    </tr>\n",
       "    <tr>\n",
       "      <th>55015</th>\n",
       "      <td>49.06065</td>\n",
       "      <td>73.958521</td>\n",
       "      <td>49.773654</td>\n",
       "      <td>76.360048</td>\n",
       "    </tr>\n",
       "    <tr>\n",
       "      <th>62433</th>\n",
       "      <td>54.32743</td>\n",
       "      <td>70.441346</td>\n",
       "      <td>55.233341</td>\n",
       "      <td>69.856939</td>\n",
       "    </tr>\n",
       "    <tr>\n",
       "      <th>66264</th>\n",
       "      <td>57.04744</td>\n",
       "      <td>67.778054</td>\n",
       "      <td>57.091815</td>\n",
       "      <td>69.136863</td>\n",
       "    </tr>\n",
       "    <tr>\n",
       "      <th>38506</th>\n",
       "      <td>37.33926</td>\n",
       "      <td>73.681918</td>\n",
       "      <td>38.066752</td>\n",
       "      <td>73.183514</td>\n",
       "    </tr>\n",
       "    <tr>\n",
       "      <th>38528</th>\n",
       "      <td>37.35488</td>\n",
       "      <td>73.689888</td>\n",
       "      <td>37.080220</td>\n",
       "      <td>77.908227</td>\n",
       "    </tr>\n",
       "    <tr>\n",
       "      <th>67500</th>\n",
       "      <td>57.92500</td>\n",
       "      <td>66.799286</td>\n",
       "      <td>58.784003</td>\n",
       "      <td>64.929712</td>\n",
       "    </tr>\n",
       "    <tr>\n",
       "      <th>65584</th>\n",
       "      <td>56.56464</td>\n",
       "      <td>68.291884</td>\n",
       "      <td>56.048000</td>\n",
       "      <td>70.301879</td>\n",
       "    </tr>\n",
       "    <tr>\n",
       "      <th>24750</th>\n",
       "      <td>27.57250</td>\n",
       "      <td>64.713809</td>\n",
       "      <td>28.542586</td>\n",
       "      <td>60.496407</td>\n",
       "    </tr>\n",
       "    <tr>\n",
       "      <th>36350</th>\n",
       "      <td>35.80850</td>\n",
       "      <td>72.801781</td>\n",
       "      <td>36.861477</td>\n",
       "      <td>71.561419</td>\n",
       "    </tr>\n",
       "    <tr>\n",
       "      <th>53594</th>\n",
       "      <td>48.05174</td>\n",
       "      <td>74.379354</td>\n",
       "      <td>47.777190</td>\n",
       "      <td>73.414904</td>\n",
       "    </tr>\n",
       "    <tr>\n",
       "      <th>19331</th>\n",
       "      <td>23.72501</td>\n",
       "      <td>59.023873</td>\n",
       "      <td>23.074468</td>\n",
       "      <td>58.690101</td>\n",
       "    </tr>\n",
       "    <tr>\n",
       "      <th>28920</th>\n",
       "      <td>30.53320</td>\n",
       "      <td>68.269214</td>\n",
       "      <td>29.596307</td>\n",
       "      <td>68.322204</td>\n",
       "    </tr>\n",
       "    <tr>\n",
       "      <th>18350</th>\n",
       "      <td>23.02850</td>\n",
       "      <td>57.866472</td>\n",
       "      <td>22.787179</td>\n",
       "      <td>63.475144</td>\n",
       "    </tr>\n",
       "    <tr>\n",
       "      <th>48993</th>\n",
       "      <td>44.78503</td>\n",
       "      <td>75.172881</td>\n",
       "      <td>46.112821</td>\n",
       "      <td>76.046597</td>\n",
       "    </tr>\n",
       "    <tr>\n",
       "      <th>14539</th>\n",
       "      <td>20.32269</td>\n",
       "      <td>53.006532</td>\n",
       "      <td>19.058818</td>\n",
       "      <td>53.633768</td>\n",
       "    </tr>\n",
       "    <tr>\n",
       "      <th>25686</th>\n",
       "      <td>28.23706</td>\n",
       "      <td>65.574637</td>\n",
       "      <td>27.523504</td>\n",
       "      <td>67.021691</td>\n",
       "    </tr>\n",
       "    <tr>\n",
       "      <th>66037</th>\n",
       "      <td>56.88627</td>\n",
       "      <td>67.951536</td>\n",
       "      <td>57.675603</td>\n",
       "      <td>68.768945</td>\n",
       "    </tr>\n",
       "    <tr>\n",
       "      <th>29089</th>\n",
       "      <td>30.65319</td>\n",
       "      <td>68.398049</td>\n",
       "      <td>30.016531</td>\n",
       "      <td>67.969052</td>\n",
       "    </tr>\n",
       "    <tr>\n",
       "      <th>55315</th>\n",
       "      <td>49.27365</td>\n",
       "      <td>73.859158</td>\n",
       "      <td>47.091098</td>\n",
       "      <td>73.895527</td>\n",
       "    </tr>\n",
       "    <tr>\n",
       "      <th>24738</th>\n",
       "      <td>27.56398</td>\n",
       "      <td>64.702538</td>\n",
       "      <td>26.886667</td>\n",
       "      <td>63.924076</td>\n",
       "    </tr>\n",
       "    <tr>\n",
       "      <th>15021</th>\n",
       "      <td>20.66491</td>\n",
       "      <td>53.652858</td>\n",
       "      <td>20.799493</td>\n",
       "      <td>50.339246</td>\n",
       "    </tr>\n",
       "    <tr>\n",
       "      <th>50076</th>\n",
       "      <td>45.55396</td>\n",
       "      <td>75.064804</td>\n",
       "      <td>45.915430</td>\n",
       "      <td>76.291035</td>\n",
       "    </tr>\n",
       "  </tbody>\n",
       "</table>\n",
       "</div>"
      ],
      "text/plain": [
       "       true_angle  true_range  exp_angle  exp_range\n",
       "55636    49.50156   73.748791  49.290586  76.708848\n",
       "44400    41.52400   75.088014  42.412220  75.295328\n",
       "65098    56.21958   68.648328  57.074914  69.804508\n",
       "41969    39.79799   74.685302  38.595105  75.658031\n",
       "41793    39.67303   74.646496  39.682778  74.806822\n",
       "59123    51.97733   72.281949  52.628698  74.684523\n",
       "46465    42.99015   75.235254  42.404804  78.694761\n",
       "19928    24.14888   59.709266  24.658375  57.858609\n",
       "58580    51.59180   72.542447  52.329337  72.761539\n",
       "60167    52.71857   71.748129  53.935456  72.957270\n",
       "30133    31.39443   69.167459  32.912192  69.428854\n",
       "22577    26.02967   62.576189  25.775769  60.760919\n",
       "29548    30.97908   68.741939  30.365898  70.221818\n",
       "29949    31.26379   69.035164  29.514327  70.009436\n",
       "31816    32.58936   70.311692  31.630315  67.935471\n",
       "52629    47.36659   74.618063  46.952092  74.966987\n",
       "32960    33.40160   71.021593  32.835453  73.834259\n",
       "61234    53.47614   71.157954  52.466343  70.533402\n",
       "58503    51.53713   72.578433  52.424419  73.275212\n",
       "18699    23.27629   58.282658  22.225126  57.115907\n",
       "32133    32.81443   70.513912  33.034569  71.350628\n",
       "24793    27.60303   64.754149  27.436403  62.960507\n",
       "15088    20.71248   53.741980  20.157355  52.660368\n",
       "44979    41.93509   75.147326  41.818915  74.593968\n",
       "15499    21.00429   54.284825  20.848535  53.555444\n",
       "65801    56.71871   68.129822  56.605909  68.251995\n",
       "55540    49.43340   73.782237  48.872826  72.590726\n",
       "37656    36.73576   73.358339  36.539829  74.880141\n",
       "55015    49.06065   73.958521  49.773654  76.360048\n",
       "62433    54.32743   70.441346  55.233341  69.856939\n",
       "66264    57.04744   67.778054  57.091815  69.136863\n",
       "38506    37.33926   73.681918  38.066752  73.183514\n",
       "38528    37.35488   73.689888  37.080220  77.908227\n",
       "67500    57.92500   66.799286  58.784003  64.929712\n",
       "65584    56.56464   68.291884  56.048000  70.301879\n",
       "24750    27.57250   64.713809  28.542586  60.496407\n",
       "36350    35.80850   72.801781  36.861477  71.561419\n",
       "53594    48.05174   74.379354  47.777190  73.414904\n",
       "19331    23.72501   59.023873  23.074468  58.690101\n",
       "28920    30.53320   68.269214  29.596307  68.322204\n",
       "18350    23.02850   57.866472  22.787179  63.475144\n",
       "48993    44.78503   75.172881  46.112821  76.046597\n",
       "14539    20.32269   53.006532  19.058818  53.633768\n",
       "25686    28.23706   65.574637  27.523504  67.021691\n",
       "66037    56.88627   67.951536  57.675603  68.768945\n",
       "29089    30.65319   68.398049  30.016531  67.969052\n",
       "55315    49.27365   73.859158  47.091098  73.895527\n",
       "24738    27.56398   64.702538  26.886667  63.924076\n",
       "15021    20.66491   53.652858  20.799493  50.339246\n",
       "50076    45.55396   75.064804  45.915430  76.291035"
      ]
     },
     "execution_count": 9,
     "metadata": {},
     "output_type": "execute_result"
    }
   ],
   "source": [
    "ds"
   ]
  },
  {
   "cell_type": "markdown",
   "metadata": {
    "slideshow": {
     "slide_type": "subslide"
    }
   },
   "source": [
    "### Exercise \n",
    "Plot the (experimentally) measured range `exp_range` as a function of the (experimentally) measured angle `exp_angle`, once with matplotlib `plt.scatter()` function, and once with seaborn `sns.scatterplot()` function.  \n",
    "\n",
    "* HINT 1: look at the functions help to know which function arguments to use\n",
    "* HINT 2: you can call these functions in two ways:\n",
    "  * either extract the columns you want to plot and give them as parameters `x` and `y`, OR\n",
    "  * just provide the column names as arguments for `x` and `y`,  and provide the dataframe name as argument to the parameter `data`. This approach is preferred.\n",
    "* HINT 3: if using the first method mentioned in HINT 2, remember you can extract a column from a dataframe either as a single column `pandas` object called a `Series` with `[ ]`, or as a `DataFrame` object with `[[ ]]`"
   ]
  },
  {
   "cell_type": "markdown",
   "metadata": {},
   "source": [
    "### Solution"
   ]
  },
  {
   "cell_type": "code",
   "execution_count": 86,
   "metadata": {},
   "outputs": [
    {
     "data": {
      "image/png": "[encoded data removed]",
      "text/plain": [
       "<Figure size 576x288 with 1 Axes>"
      ]
     },
     "metadata": {
      "needs_background": "light"
     },
     "output_type": "display_data"
    }
   ],
   "source": [
    "# With maplotlib package scatter function\n",
    "plt.figure(figsize=(8, 4))\n",
    "plt.scatter(x=\"exp_angle\", y=\"exp_range\", data=ds)\n",
    "plt.xlabel(\"Experimental angle\")\n",
    "plt.ylabel(\"Experimental range\")\n",
    "plt.ylim([50, 80]);"
   ]
  },
  {
   "cell_type": "code",
   "execution_count": 87,
   "metadata": {
    "slideshow": {
     "slide_type": "subslide"
    }
   },
   "outputs": [
    {
     "data": {
      "image/png": "[encoded data removed]",
      "text/plain": [
       "<Figure size 576x288 with 1 Axes>"
      ]
     },
     "metadata": {
      "needs_background": "light"
     },
     "output_type": "display_data"
    }
   ],
   "source": [
    "# With seaborn package scatterplot function (x and y labels added automatically)\n",
    "plt.figure(figsize=(8, 4))\n",
    "sns.scatterplot(x=\"exp_angle\", y=\"exp_range\", data=ds)\n",
    "plt.ylim([50, 80]);"
   ]
  },
  {
   "cell_type": "markdown",
   "metadata": {
    "slideshow": {
     "slide_type": "slide"
    }
   },
   "source": [
    "## Part 1: model selection with train / test split"
   ]
  },
  {
   "cell_type": "markdown",
   "metadata": {
    "slideshow": {
     "slide_type": "fragment"
    }
   },
   "source": [
    "We will compare three models of different complexity (different number of parameters):\n",
    "   * Standard linear model (2 parameters: $\\beta_0$, $\\beta_\\psi$)\n",
    "   * Linear model with the feature squared (3 parameters: $\\beta_0$, $\\beta_\\psi$, $\\beta_{\\psi^2}$)\n",
    "   * Linear model with up to $5^{th}$ power of feature (6 parameters: $\\beta_0$, $\\beta_\\psi$, $\\beta_{\\psi^2}$, $\\beta_{\\psi^3}$, $\\beta_{\\psi^4}$, $\\beta_{\\psi^5}$)"
   ]
  },
  {
   "cell_type": "code",
   "execution_count": 17,
   "metadata": {
    "slideshow": {
     "slide_type": "subslide"
    }
   },
   "outputs": [],
   "source": [
    "from sklearn.model_selection import train_test_split"
   ]
  },
  {
   "cell_type": "markdown",
   "metadata": {
    "slideshow": {
     "slide_type": "fragment"
    }
   },
   "source": [
    "https://scikit-learn.org/stable/modules/generated/sklearn.model_selection.train_test_split.html"
   ]
  },
  {
   "cell_type": "markdown",
   "metadata": {
    "slideshow": {
     "slide_type": "subslide"
    }
   },
   "source": [
    "Let's divide our dataset into training and test set !"
   ]
  },
  {
   "cell_type": "code",
   "execution_count": 18,
   "metadata": {
    "slideshow": {
     "slide_type": "fragment"
    }
   },
   "outputs": [
    {
     "name": "stdout",
     "output_type": "stream",
     "text": [
      "Number of observations: 30 for training and 20 for testing\n"
     ]
    }
   ],
   "source": [
    "X = ds[['exp_angle']]\n",
    "y = ds[['exp_range']]\n",
    "X_train, X_test, y_train, y_test = train_test_split(X, y, test_size=0.4, random_state=42)\n",
    "print(f\"Number of observations: {len(X_train)} for training and {len(X_test)} for testing\")"
   ]
  },
  {
   "cell_type": "code",
   "execution_count": 19,
   "metadata": {
    "slideshow": {
     "slide_type": "fragment"
    }
   },
   "outputs": [
    {
     "name": "stdout",
     "output_type": "stream",
     "text": [
      "a=1, b=13, c=42\n"
     ]
    }
   ],
   "source": [
    "# We simply used tuple unpacking\n",
    "a, b, c = (1, 13, 42)\n",
    "print(f'a={a}, b={b}, c={c}')"
   ]
  },
  {
   "cell_type": "code",
   "execution_count": 25,
   "metadata": {
    "ExecuteTime": {
     "end_time": "2020-06-14T20:06:42.259063Z",
     "start_time": "2020-06-14T20:06:42.249379Z"
    },
    "scrolled": true,
    "slideshow": {
     "slide_type": "subslide"
    }
   },
   "outputs": [
    {
     "data": {
      "text/html": [
       "<div>\n",
       "<style scoped>\n",
       "    .dataframe tbody tr th:only-of-type {\n",
       "        vertical-align: middle;\n",
       "    }\n",
       "\n",
       "    .dataframe tbody tr th {\n",
       "        vertical-align: top;\n",
       "    }\n",
       "\n",
       "    .dataframe thead th {\n",
       "        text-align: right;\n",
       "    }\n",
       "</style>\n",
       "<table border=\"1\" class=\"dataframe\">\n",
       "  <thead>\n",
       "    <tr style=\"text-align: right;\">\n",
       "      <th></th>\n",
       "      <th>exp_angle</th>\n",
       "    </tr>\n",
       "  </thead>\n",
       "  <tbody>\n",
       "    <tr>\n",
       "      <th>29949</th>\n",
       "      <td>29.514327</td>\n",
       "    </tr>\n",
       "    <tr>\n",
       "      <th>28920</th>\n",
       "      <td>29.596307</td>\n",
       "    </tr>\n",
       "    <tr>\n",
       "      <th>66264</th>\n",
       "      <td>57.091815</td>\n",
       "    </tr>\n",
       "    <tr>\n",
       "      <th>29089</th>\n",
       "      <td>30.016531</td>\n",
       "    </tr>\n",
       "    <tr>\n",
       "      <th>61234</th>\n",
       "      <td>52.466343</td>\n",
       "    </tr>\n",
       "    <tr>\n",
       "      <th>15021</th>\n",
       "      <td>20.799493</td>\n",
       "    </tr>\n",
       "    <tr>\n",
       "      <th>55540</th>\n",
       "      <td>48.872826</td>\n",
       "    </tr>\n",
       "    <tr>\n",
       "      <th>65801</th>\n",
       "      <td>56.605909</td>\n",
       "    </tr>\n",
       "    <tr>\n",
       "      <th>38528</th>\n",
       "      <td>37.080220</td>\n",
       "    </tr>\n",
       "    <tr>\n",
       "      <th>18699</th>\n",
       "      <td>22.225126</td>\n",
       "    </tr>\n",
       "    <tr>\n",
       "      <th>29548</th>\n",
       "      <td>30.365898</td>\n",
       "    </tr>\n",
       "    <tr>\n",
       "      <th>41793</th>\n",
       "      <td>39.682778</td>\n",
       "    </tr>\n",
       "    <tr>\n",
       "      <th>53594</th>\n",
       "      <td>47.777190</td>\n",
       "    </tr>\n",
       "    <tr>\n",
       "      <th>58580</th>\n",
       "      <td>52.329337</td>\n",
       "    </tr>\n",
       "    <tr>\n",
       "      <th>41969</th>\n",
       "      <td>38.595105</td>\n",
       "    </tr>\n",
       "    <tr>\n",
       "      <th>46465</th>\n",
       "      <td>42.404804</td>\n",
       "    </tr>\n",
       "    <tr>\n",
       "      <th>48993</th>\n",
       "      <td>46.112821</td>\n",
       "    </tr>\n",
       "    <tr>\n",
       "      <th>55315</th>\n",
       "      <td>47.091098</td>\n",
       "    </tr>\n",
       "    <tr>\n",
       "      <th>24738</th>\n",
       "      <td>26.886667</td>\n",
       "    </tr>\n",
       "    <tr>\n",
       "      <th>52629</th>\n",
       "      <td>46.952092</td>\n",
       "    </tr>\n",
       "  </tbody>\n",
       "</table>\n",
       "</div>"
      ],
      "text/plain": [
       "       exp_angle\n",
       "29949  29.514327\n",
       "28920  29.596307\n",
       "66264  57.091815\n",
       "29089  30.016531\n",
       "61234  52.466343\n",
       "15021  20.799493\n",
       "55540  48.872826\n",
       "65801  56.605909\n",
       "38528  37.080220\n",
       "18699  22.225126\n",
       "29548  30.365898\n",
       "41793  39.682778\n",
       "53594  47.777190\n",
       "58580  52.329337\n",
       "41969  38.595105\n",
       "46465  42.404804\n",
       "48993  46.112821\n",
       "55315  47.091098\n",
       "24738  26.886667\n",
       "52629  46.952092"
      ]
     },
     "execution_count": 25,
     "metadata": {},
     "output_type": "execute_result"
    }
   ],
   "source": [
    "X_test"
   ]
  },
  {
   "cell_type": "markdown",
   "metadata": {
    "slideshow": {
     "slide_type": "slide"
    }
   },
   "source": [
    "### Linear (OLS) model with single feature"
   ]
  },
  {
   "cell_type": "markdown",
   "metadata": {
    "slideshow": {
     "slide_type": "fragment"
    }
   },
   "source": [
    "https://scikit-learn.org/stable/modules/generated/sklearn.linear_model.LinearRegression.html"
   ]
  },
  {
   "cell_type": "markdown",
   "metadata": {
    "slideshow": {
     "slide_type": "fragment"
    }
   },
   "source": [
    "##### Let's train the model"
   ]
  },
  {
   "cell_type": "code",
   "execution_count": 26,
   "metadata": {
    "slideshow": {
     "slide_type": "fragment"
    }
   },
   "outputs": [],
   "source": [
    "from sklearn.linear_model import LinearRegression\n",
    "from sklearn.metrics import mean_squared_error, r2_score"
   ]
  },
  {
   "cell_type": "markdown",
   "metadata": {
    "slideshow": {
     "slide_type": "subslide"
    }
   },
   "source": [
    "Create new estimator object (each model is an object in `sklearn`)"
   ]
  },
  {
   "cell_type": "code",
   "execution_count": 27,
   "metadata": {
    "slideshow": {
     "slide_type": "fragment"
    }
   },
   "outputs": [],
   "source": [
    "lm = LinearRegression()"
   ]
  },
  {
   "cell_type": "code",
   "execution_count": null,
   "metadata": {
    "slideshow": {
     "slide_type": "fragment"
    }
   },
   "outputs": [],
   "source": [
    "lm."
   ]
  },
  {
   "cell_type": "code",
   "execution_count": 28,
   "metadata": {
    "slideshow": {
     "slide_type": "fragment"
    }
   },
   "outputs": [
    {
     "data": {
      "text/plain": [
       "LinearRegression()"
      ]
     },
     "execution_count": 28,
     "metadata": {},
     "output_type": "execute_result"
    }
   ],
   "source": [
    "lm.fit(X_train, y_train)"
   ]
  },
  {
   "cell_type": "code",
   "execution_count": 29,
   "metadata": {
    "slideshow": {
     "slide_type": "fragment"
    }
   },
   "outputs": [],
   "source": [
    "lm?"
   ]
  },
  {
   "cell_type": "code",
   "execution_count": 30,
   "metadata": {
    "slideshow": {
     "slide_type": "fragment"
    }
   },
   "outputs": [
    {
     "name": "stdout",
     "output_type": "stream",
     "text": [
      "beta_psi: [[0.38340895]], beta_0: [53.14568672]\n"
     ]
    }
   ],
   "source": [
    "print(f'beta_psi: {lm.coef_}, beta_0: {lm.intercept_}')"
   ]
  },
  {
   "cell_type": "markdown",
   "metadata": {
    "slideshow": {
     "slide_type": "subslide"
    }
   },
   "source": [
    "##### Predict, and compute performance scores"
   ]
  },
  {
   "cell_type": "code",
   "execution_count": 31,
   "metadata": {
    "slideshow": {
     "slide_type": "fragment"
    }
   },
   "outputs": [
    {
     "data": {
      "text/plain": [
       "array([[64.64795508],\n",
       "       [70.39908926],\n",
       "       [76.15022345]])"
      ]
     },
     "execution_count": 31,
     "metadata": {},
     "output_type": "execute_result"
    }
   ],
   "source": [
    "lm.predict([[30], [45], [60]])"
   ]
  },
  {
   "cell_type": "markdown",
   "metadata": {
    "slideshow": {
     "slide_type": "subslide"
    }
   },
   "source": [
    "The training score can provide an idea of best possible performance"
   ]
  },
  {
   "cell_type": "code",
   "execution_count": 32,
   "metadata": {
    "slideshow": {
     "slide_type": "fragment"
    }
   },
   "outputs": [
    {
     "name": "stdout",
     "output_type": "stream",
     "text": [
      "lm training performance is R2: 0.47 and MSE: 27.38\n"
     ]
    }
   ],
   "source": [
    "# We score the predictions made on the same data we trained on\n",
    "y_pred = lm.predict(X_train)\n",
    "\n",
    "R2_train = r2_score(y_train, y_pred)\n",
    "MSE_train = mean_squared_error(y_train, y_pred)\n",
    "print(f'lm training performance is R2: {R2_train:0.2f} and MSE: {MSE_train:0.2f}')"
   ]
  },
  {
   "cell_type": "markdown",
   "metadata": {
    "slideshow": {
     "slide_type": "fragment"
    }
   },
   "source": [
    "`R2` can be obtained directly from the model / estimator object as it is the default for `LinearRegression`"
   ]
  },
  {
   "cell_type": "code",
   "execution_count": 185,
   "metadata": {
    "slideshow": {
     "slide_type": "fragment"
    }
   },
   "outputs": [
    {
     "data": {
      "text/plain": [
       "0.4733701964386373"
      ]
     },
     "execution_count": 185,
     "metadata": {},
     "output_type": "execute_result"
    }
   ],
   "source": [
    "lm.score(X_train, y_train)"
   ]
  },
  {
   "cell_type": "markdown",
   "metadata": {
    "slideshow": {
     "slide_type": "subslide"
    }
   },
   "source": [
    "Let's save all our models scores to compare models later"
   ]
  },
  {
   "cell_type": "code",
   "execution_count": 33,
   "metadata": {
    "slideshow": {
     "slide_type": "fragment"
    }
   },
   "outputs": [],
   "source": [
    "train_test_results = []\n",
    "train_test_results.append({'model': 'lm', 'stage': 'train', \n",
    "                           'scorer': 'r2', 'val': R2_train})\n",
    "train_test_results.append({'model': 'lm', 'stage': 'train', \n",
    "                           'scorer': 'MSE', 'val': -MSE_train})"
   ]
  },
  {
   "cell_type": "markdown",
   "metadata": {
    "slideshow": {
     "slide_type": "subslide"
    }
   },
   "source": [
    "##### Let's test on unseen data and get testing score"
   ]
  },
  {
   "cell_type": "markdown",
   "metadata": {
    "slideshow": {
     "slide_type": "fragment"
    }
   },
   "source": [
    "See possible scores: https://scikit-learn.org/stable/modules/model_evaluation.html"
   ]
  },
  {
   "cell_type": "markdown",
   "metadata": {
    "slideshow": {
     "slide_type": "fragment"
    }
   },
   "source": [
    "The testing score can provide an idea of performance for unseen data"
   ]
  },
  {
   "cell_type": "markdown",
   "metadata": {
    "slideshow": {
     "slide_type": "subslide"
    }
   },
   "source": [
    "### Exercise\n",
    "Let's use the fitted model to see its performance on unseen data. As above, use the `lm.predict()`, `r2_score()` and `mean_squared_error()` functions, but this time to get the scores on the unseen data `X_test`. The predictions of `X_test` have to be compared with the ground truth data `y_test`.\n",
    "* HINT 1: copy the relevant code, and replace the training data with the testing data where required\n",
    "* HINT 2: you should find as performance R2: 0.26 and MSE: 33.05"
   ]
  },
  {
   "cell_type": "markdown",
   "metadata": {},
   "source": [
    "### Solution"
   ]
  },
  {
   "cell_type": "code",
   "execution_count": 34,
   "metadata": {},
   "outputs": [
    {
     "name": "stdout",
     "output_type": "stream",
     "text": [
      "lm training performance is R2: 0.26 and MSE: 33.05\n"
     ]
    }
   ],
   "source": [
    "# We score predictions made on unseen data (from our model fitted on our training data)\n",
    "y_pred = lm.predict(X_test)\n",
    "\n",
    "R2_test = r2_score(y_test, y_pred)\n",
    "MSE_test = mean_squared_error(y_test, y_pred)\n",
    "print(f'lm training performance is R2: {R2_test:0.2f} and MSE: {MSE_test:0.2f}')"
   ]
  },
  {
   "cell_type": "markdown",
   "metadata": {
    "slideshow": {
     "slide_type": "fragment"
    }
   },
   "source": [
    "Again let's save our scores for comparison later"
   ]
  },
  {
   "cell_type": "code",
   "execution_count": 35,
   "metadata": {
    "slideshow": {
     "slide_type": "fragment"
    }
   },
   "outputs": [],
   "source": [
    "train_test_results.append({'model': 'lm', 'stage': 'test', \n",
    "                           'scorer': 'r2', 'val': R2_test})\n",
    "train_test_results.append({'model': 'lm', 'stage': 'test', \n",
    "                           'scorer': 'MSE', 'val': -MSE_test})"
   ]
  },
  {
   "cell_type": "markdown",
   "metadata": {
    "slideshow": {
     "slide_type": "slide"
    }
   },
   "source": [
    "### Polynomial degree 2 model (polynomial use feature powers as additional features)"
   ]
  },
  {
   "cell_type": "markdown",
   "metadata": {
    "slideshow": {
     "slide_type": "fragment"
    }
   },
   "source": [
    "##### Train and get training score of degree 2 polynomial"
   ]
  },
  {
   "cell_type": "markdown",
   "metadata": {
    "slideshow": {
     "slide_type": "fragment"
    }
   },
   "source": [
    "The polynomial terms are created and then added to a standard `LinearRegression`"
   ]
  },
  {
   "cell_type": "code",
   "execution_count": 36,
   "metadata": {
    "slideshow": {
     "slide_type": "fragment"
    }
   },
   "outputs": [],
   "source": [
    "from sklearn.preprocessing import PolynomialFeatures"
   ]
  },
  {
   "cell_type": "markdown",
   "metadata": {
    "slideshow": {
     "slide_type": "fragment"
    }
   },
   "source": [
    "https://scikit-learn.org/stable/modules/generated/sklearn.preprocessing.PolynomialFeatures.html"
   ]
  },
  {
   "cell_type": "code",
   "execution_count": 37,
   "metadata": {
    "slideshow": {
     "slide_type": "fragment"
    }
   },
   "outputs": [],
   "source": [
    "poly_transformer = PolynomialFeatures(degree=2)\n",
    "lm_deg2 = LinearRegression()"
   ]
  },
  {
   "cell_type": "markdown",
   "metadata": {
    "slideshow": {
     "slide_type": "subslide"
    }
   },
   "source": [
    "A polynomial model is fitted by first transforming the features and then training a `LinearRegression` on the transformed features"
   ]
  },
  {
   "cell_type": "code",
   "execution_count": 38,
   "metadata": {
    "slideshow": {
     "slide_type": "subslide"
    }
   },
   "outputs": [],
   "source": [
    "X_train_deg2 = poly_transformer.fit_transform(X_train)"
   ]
  },
  {
   "cell_type": "code",
   "execution_count": 43,
   "metadata": {
    "cell_style": "split",
    "scrolled": true,
    "slideshow": {
     "slide_type": "fragment"
    }
   },
   "outputs": [
    {
     "data": {
      "text/plain": [
       "array([[1.00000000e+00, 5.39354559e+01, 2.90903340e+03],\n",
       "       [1.00000000e+00, 3.28354531e+01, 1.07816698e+03],\n",
       "       [1.00000000e+00, 2.08485347e+01, 4.34661399e+02],\n",
       "       [1.00000000e+00, 5.60480002e+01, 3.14137832e+03],\n",
       "       [1.00000000e+00, 3.80667523e+01, 1.44907763e+03],\n",
       "       [1.00000000e+00, 4.92905859e+01, 2.42956186e+03],\n",
       "       [1.00000000e+00, 5.76756034e+01, 3.32647522e+03],\n",
       "       [1.00000000e+00, 3.65398293e+01, 1.33515913e+03],\n",
       "       [1.00000000e+00, 5.87840026e+01, 3.45555896e+03],\n",
       "       [1.00000000e+00, 5.26286977e+01, 2.76977982e+03],\n",
       "       [1.00000000e+00, 5.52333414e+01, 3.05072201e+03],\n",
       "       [1.00000000e+00, 2.57757690e+01, 6.64390269e+02],\n",
       "       [1.00000000e+00, 3.68614775e+01, 1.35876852e+03],\n",
       "       [1.00000000e+00, 4.24122201e+01, 1.79879641e+03],\n",
       "       [1.00000000e+00, 2.74364029e+01, 7.52756204e+02],\n",
       "       [1.00000000e+00, 5.70749141e+01, 3.25754582e+03],\n",
       "       [1.00000000e+00, 2.75235035e+01, 7.57543245e+02],\n",
       "       [1.00000000e+00, 2.85425860e+01, 8.14679215e+02],\n",
       "       [1.00000000e+00, 4.18189154e+01, 1.74882169e+03],\n",
       "       [1.00000000e+00, 2.27871786e+01, 5.19255509e+02],\n",
       "       [1.00000000e+00, 3.29121916e+01, 1.08321236e+03],\n",
       "       [1.00000000e+00, 2.01573548e+01, 4.06318954e+02],\n",
       "       [1.00000000e+00, 5.24244186e+01, 2.74831966e+03],\n",
       "       [1.00000000e+00, 4.59154304e+01, 2.10822675e+03],\n",
       "       [1.00000000e+00, 3.30345694e+01, 1.09128277e+03],\n",
       "       [1.00000000e+00, 2.46583749e+01, 6.08035451e+02],\n",
       "       [1.00000000e+00, 1.90588184e+01, 3.63238560e+02],\n",
       "       [1.00000000e+00, 3.16303153e+01, 1.00047685e+03],\n",
       "       [1.00000000e+00, 4.97736540e+01, 2.47741663e+03],\n",
       "       [1.00000000e+00, 2.30744680e+01, 5.32431074e+02]])"
      ]
     },
     "execution_count": 43,
     "metadata": {},
     "output_type": "execute_result"
    }
   ],
   "source": [
    "X_train_deg2"
   ]
  },
  {
   "cell_type": "code",
   "execution_count": 45,
   "metadata": {
    "slideshow": {
     "slide_type": "subslide"
    }
   },
   "outputs": [
    {
     "data": {
      "text/plain": [
       "LinearRegression()"
      ]
     },
     "execution_count": 45,
     "metadata": {},
     "output_type": "execute_result"
    }
   ],
   "source": [
    "lm_deg2.fit(X_train_deg2, y_train)"
   ]
  },
  {
   "cell_type": "code",
   "execution_count": 46,
   "metadata": {
    "slideshow": {
     "slide_type": "fragment"
    }
   },
   "outputs": [
    {
     "data": {
      "text/plain": [
       "array([[ 0.        ,  3.34282668, -0.03760496]])"
      ]
     },
     "execution_count": 46,
     "metadata": {},
     "output_type": "execute_result"
    }
   ],
   "source": [
    "lm_deg2.coef_"
   ]
  },
  {
   "cell_type": "markdown",
   "metadata": {
    "slideshow": {
     "slide_type": "subslide"
    }
   },
   "source": [
    "Let's compute training score  \n",
    "**Warning**: `LinearRegression` needs to be applied to the *transformed* (polynomial) features"
   ]
  },
  {
   "cell_type": "code",
   "execution_count": 47,
   "metadata": {
    "slideshow": {
     "slide_type": "fragment"
    }
   },
   "outputs": [
    {
     "name": "stdout",
     "output_type": "stream",
     "text": [
      "poly deg2 training performance is R2: 0.91 and MSE: 4.42\n"
     ]
    }
   ],
   "source": [
    "y_pred = lm_deg2.predict(X_train_deg2)\n",
    "\n",
    "R2_train = r2_score(y_train, y_pred)\n",
    "MSE_train = mean_squared_error(y_train, y_pred)\n",
    "print(f'poly deg2 training performance is R2: {R2_train:0.2f} and MSE: {MSE_train:0.2f}')"
   ]
  },
  {
   "cell_type": "code",
   "execution_count": 48,
   "metadata": {
    "slideshow": {
     "slide_type": "fragment"
    }
   },
   "outputs": [],
   "source": [
    "train_test_results.append({'model': 'lm_deg2', 'stage': 'train', \n",
    "                           'scorer': 'r2', 'val': R2_train})\n",
    "train_test_results.append({'model': 'lm_deg2', 'stage': 'train', \n",
    "                           'scorer': 'MSE', 'val': -MSE_train})"
   ]
  },
  {
   "cell_type": "markdown",
   "metadata": {
    "slideshow": {
     "slide_type": "subslide"
    }
   },
   "source": [
    "##### Let's test on unseen data and get testing score"
   ]
  },
  {
   "cell_type": "markdown",
   "metadata": {
    "slideshow": {
     "slide_type": "fragment"
    }
   },
   "source": [
    "Again, should not forget to transform the test data to get polynomial features"
   ]
  },
  {
   "cell_type": "code",
   "execution_count": 49,
   "metadata": {
    "slideshow": {
     "slide_type": "fragment"
    }
   },
   "outputs": [
    {
     "name": "stdout",
     "output_type": "stream",
     "text": [
      "poly deg2 testing performance is R2: 0.91 and MSE: 4.20\n"
     ]
    }
   ],
   "source": [
    "X_test_deg2 = poly_transformer.fit_transform(X_test) \n",
    "\n",
    "y_pred = lm_deg2.predict(X_test_deg2)\n",
    "\n",
    "R2_test = r2_score(y_test, y_pred)\n",
    "MSE_test = mean_squared_error(y_test, y_pred)\n",
    "print(f'poly deg2 testing performance is R2: {R2_test:0.2f} and MSE: {MSE_test:0.2f}')"
   ]
  },
  {
   "cell_type": "code",
   "execution_count": 50,
   "metadata": {
    "slideshow": {
     "slide_type": "fragment"
    }
   },
   "outputs": [],
   "source": [
    "train_test_results.append({'model': 'lm_deg2', 'stage': 'test', \n",
    "                           'scorer': 'r2', 'val': R2_test})\n",
    "train_test_results.append({'model': 'lm_deg2', 'stage': 'test', \n",
    "                           'scorer': 'MSE', 'val': -MSE_test})"
   ]
  },
  {
   "cell_type": "markdown",
   "metadata": {
    "slideshow": {
     "slide_type": "slide"
    }
   },
   "source": [
    "### Polynomial degree 5 model, introducing pipeline object"
   ]
  },
  {
   "cell_type": "markdown",
   "metadata": {
    "slideshow": {
     "slide_type": "fragment"
    }
   },
   "source": [
    "It is common to use preprocessing steps such as features transformation. To avoid repeating these processing steps (e.g. when testing the model on new data) the `Pipeline` object is very useful. It builds a workflow which can be called with a single command. "
   ]
  },
  {
   "cell_type": "markdown",
   "metadata": {
    "slideshow": {
     "slide_type": "subslide"
    }
   },
   "source": [
    "##### Train and get training score of degree 5 polynomial with *pipeline*"
   ]
  },
  {
   "cell_type": "code",
   "execution_count": 51,
   "metadata": {
    "slideshow": {
     "slide_type": "fragment"
    }
   },
   "outputs": [],
   "source": [
    "from sklearn.pipeline import Pipeline"
   ]
  },
  {
   "cell_type": "markdown",
   "metadata": {
    "slideshow": {
     "slide_type": "fragment"
    }
   },
   "source": [
    "https://scikit-learn.org/stable/modules/generated/sklearn.pipeline.Pipeline.html"
   ]
  },
  {
   "cell_type": "markdown",
   "metadata": {
    "slideshow": {
     "slide_type": "subslide"
    }
   },
   "source": [
    "The creation of the polynomial terms are embed in the `Pipeline` object which represents our new estimator (i.e. the one to use with `fit`, `predict`, etc.)"
   ]
  },
  {
   "cell_type": "code",
   "execution_count": 52,
   "metadata": {
    "slideshow": {
     "slide_type": "fragment"
    }
   },
   "outputs": [],
   "source": [
    "lm_deg5 = Pipeline([('poly_transformer', PolynomialFeatures(degree=5)),\n",
    "                    ('lm', LinearRegression())])"
   ]
  },
  {
   "cell_type": "markdown",
   "metadata": {
    "slideshow": {
     "slide_type": "subslide"
    }
   },
   "source": [
    "### Exercise\n",
    "Train and test your \"degree 5\"-polynomial model, and get both the training and testing scores (R2 and MSE).  \n",
    "1. Fit  your pipeline model on `X_train` and `y_train` with the `lm_deg5.fit()` method (you only need to call this method because the pipeline object will take care of calling the required `transform` and `fit` methods of all the pipeline objects)\n",
    "2. Examine your fitted linear model coefficients. Because your model is a pipeline object including `poly_transformer` and `lm`, you have to look at the specific `lm` object accessible with `lm_deg5['lm']` \n",
    "3. Compute the R2 and MSE training score by comparing predictions on `X_train` (you can name them `y_pred`) with the ground truth `y_train`, and save them in the variables `R2_train` and `MSE_train` respectively\n",
    "4. Run the cell further down below to append the training scores to the `train_test_results` variable\n",
    "5. Using the fitted model on step 1, now compute the R2 and MSE testing scores by comparing predictions on `X_test` with `y_test`, and save them in the variables `R2_test` and `MSE_test` respectively\n",
    "6. Run the cell further down below to append the test scores to the `train_test_results` variable\n",
    "\n",
    "HINT: Copy previous code and adapt it as needed"
   ]
  },
  {
   "cell_type": "markdown",
   "metadata": {},
   "source": [
    "### Solution"
   ]
  },
  {
   "cell_type": "markdown",
   "metadata": {},
   "source": [
    "1. The pipeline object will call each of its component in turn, so we only need to call `fit` on the pipeline itself"
   ]
  },
  {
   "cell_type": "code",
   "execution_count": 53,
   "metadata": {},
   "outputs": [
    {
     "data": {
      "text/plain": [
       "Pipeline(steps=[('poly_transformer', PolynomialFeatures(degree=5)),\n",
       "                ('lm', LinearRegression())])"
      ]
     },
     "execution_count": 53,
     "metadata": {},
     "output_type": "execute_result"
    }
   ],
   "source": [
    "lm_deg5.fit(X_train, y_train)"
   ]
  },
  {
   "cell_type": "markdown",
   "metadata": {},
   "source": [
    "2. We can access a particular Pipeline component in the same way we access the value of a dictionary. In this case we want the component we called `lm`, and once we have the `lm` object we get its `coef_` attributes."
   ]
  },
  {
   "cell_type": "code",
   "execution_count": 54,
   "metadata": {},
   "outputs": [
    {
     "data": {
      "text/plain": [
       "array([[ 0.00000000e+00, -9.32453755e+00,  6.36664599e-01,\n",
       "        -1.79426599e-02,  2.39523999e-04, -1.27777210e-06]])"
      ]
     },
     "execution_count": 54,
     "metadata": {},
     "output_type": "execute_result"
    }
   ],
   "source": [
    "lm_deg5['lm'].coef_"
   ]
  },
  {
   "cell_type": "code",
   "execution_count": 88,
   "metadata": {},
   "outputs": [
    {
     "data": {
      "text/plain": [
       "array([[ 0.00000000e+00, -9.32453755e+00,  6.36664599e-01,\n",
       "        -1.79426599e-02,  2.39523999e-04, -1.27777210e-06]])"
      ]
     },
     "execution_count": 88,
     "metadata": {},
     "output_type": "execute_result"
    }
   ],
   "source": [
    "# Alternative\n",
    "lm_estimator = lm_deg5['lm']\n",
    "lm_estimator.coef_"
   ]
  },
  {
   "cell_type": "markdown",
   "metadata": {},
   "source": [
    "3. Again we can directly call the `predict` method of the pipeline object, which will take care of first running the polynomial transformer (to get all the powers of the angle) and then the `lm` estimator."
   ]
  },
  {
   "cell_type": "code",
   "execution_count": 59,
   "metadata": {},
   "outputs": [],
   "source": [
    "y_pred = lm_deg5.predict(X_train)"
   ]
  },
  {
   "cell_type": "code",
   "execution_count": 60,
   "metadata": {},
   "outputs": [],
   "source": [
    "R2_train = r2_score(y_train, y_pred)\n",
    "MSE_train = mean_squared_error(y_train, y_pred)"
   ]
  },
  {
   "cell_type": "markdown",
   "metadata": {},
   "source": [
    "4. Saving all the results in the list of dictionaries `train_test_results` which will be helpful for plotting"
   ]
  },
  {
   "cell_type": "code",
   "execution_count": 63,
   "metadata": {
    "slideshow": {
     "slide_type": "subslide"
    }
   },
   "outputs": [],
   "source": [
    "train_test_results.append({'model': 'lm_deg5', 'stage': 'train', \n",
    "                           'scorer': 'r2', 'val': R2_train})\n",
    "train_test_results.append({'model': 'lm_deg5', 'stage': 'train', \n",
    "                           'scorer': 'MSE', 'val': -MSE_train})"
   ]
  },
  {
   "cell_type": "markdown",
   "metadata": {},
   "source": [
    "5. Similar to previous question but using the test data on the **already fitted** model"
   ]
  },
  {
   "cell_type": "code",
   "execution_count": 61,
   "metadata": {},
   "outputs": [],
   "source": [
    "# Predictions on test data\n",
    "y_pred = lm_deg5.predict(X_test)"
   ]
  },
  {
   "cell_type": "code",
   "execution_count": 62,
   "metadata": {},
   "outputs": [],
   "source": [
    "R2_test = r2_score(y_test, y_pred)\n",
    "MSE_test = mean_squared_error(y_test, y_pred)"
   ]
  },
  {
   "cell_type": "markdown",
   "metadata": {},
   "source": [
    "6. Saving all the results in the list of dictionaries `train_test_results` which will be helpful for plotting"
   ]
  },
  {
   "cell_type": "code",
   "execution_count": 64,
   "metadata": {
    "slideshow": {
     "slide_type": "subslide"
    }
   },
   "outputs": [],
   "source": [
    "train_test_results.append({'model': 'lm_deg5', 'stage': 'test', \n",
    "                           'scorer': 'r2', 'val': R2_test})\n",
    "train_test_results.append({'model': 'lm_deg5', 'stage': 'test', \n",
    "                           'scorer': 'MSE', 'val': -MSE_test})"
   ]
  },
  {
   "cell_type": "markdown",
   "metadata": {
    "slideshow": {
     "slide_type": "subslide"
    }
   },
   "source": [
    "##### Plot all the results"
   ]
  },
  {
   "cell_type": "code",
   "execution_count": 89,
   "metadata": {
    "slideshow": {
     "slide_type": "subslide"
    }
   },
   "outputs": [
    {
     "data": {
      "image/png": "[encoded data removed]",
      "text/plain": [
       "<Figure size 798.645x360 with 2 Axes>"
      ]
     },
     "metadata": {
      "needs_background": "light"
     },
     "output_type": "display_data"
    }
   ],
   "source": [
    "# The list of dictionaries is transformed into a Pandas dataframe\n",
    "train_test_results_df = pd.DataFrame(train_test_results)\n",
    "# We extract the r2 score results\n",
    "r2_results = train_test_results_df.loc[train_test_results_df['scorer'] == 'r2']\n",
    "# We extract the MSE score results\n",
    "MSE_results = train_test_results_df.loc[train_test_results_df['scorer'] == 'MSE']\n",
    "# We call the seaborn `catplot` function which can plot 4 level of informations:\n",
    "# x [model: lm, lm_deg2, ...], y [score value], colored by `hue` [training or testing score], \n",
    "# and producing separate plots for each `col` [score metric: r2 or MSE]\n",
    "with sns.plotting_context(\"notebook\", font_scale=1.2):\n",
    "    g = sns.catplot(x=\"model\", y=\"val\", hue=\"stage\", col=\"scorer\", \n",
    "                    data=train_test_results_df, kind=\"bar\", sharey=False)"
   ]
  },
  {
   "cell_type": "markdown",
   "metadata": {
    "slideshow": {
     "slide_type": "subslide"
    }
   },
   "source": [
    "For many other regression models implemented in sklearn, cf https://scikit-learn.org/stable/supervised_learning.html#supervised-learning "
   ]
  },
  {
   "cell_type": "markdown",
   "metadata": {
    "slideshow": {
     "slide_type": "slide"
    }
   },
   "source": [
    "## Part 2: Model selection with cross-validation"
   ]
  },
  {
   "cell_type": "markdown",
   "metadata": {
    "slideshow": {
     "slide_type": "fragment"
    }
   },
   "source": [
    "https://scikit-learn.org/stable/modules/cross_validation.html"
   ]
  },
  {
   "cell_type": "code",
   "execution_count": 66,
   "metadata": {
    "slideshow": {
     "slide_type": "fragment"
    }
   },
   "outputs": [],
   "source": [
    "from sklearn.model_selection import KFold"
   ]
  },
  {
   "cell_type": "code",
   "execution_count": 67,
   "metadata": {
    "slideshow": {
     "slide_type": "fragment"
    }
   },
   "outputs": [],
   "source": [
    "KFold?"
   ]
  },
  {
   "cell_type": "markdown",
   "metadata": {
    "slideshow": {
     "slide_type": "subslide"
    }
   },
   "source": [
    "Let's see what K fold is actually doing on a 10-observation dataset"
   ]
  },
  {
   "cell_type": "code",
   "execution_count": 68,
   "metadata": {
    "cell_style": "center",
    "scrolled": true,
    "slideshow": {
     "slide_type": "fragment"
    }
   },
   "outputs": [
    {
     "data": {
      "text/html": [
       "<div>\n",
       "<style scoped>\n",
       "    .dataframe tbody tr th:only-of-type {\n",
       "        vertical-align: middle;\n",
       "    }\n",
       "\n",
       "    .dataframe tbody tr th {\n",
       "        vertical-align: top;\n",
       "    }\n",
       "\n",
       "    .dataframe thead th {\n",
       "        text-align: right;\n",
       "    }\n",
       "</style>\n",
       "<table border=\"1\" class=\"dataframe\">\n",
       "  <thead>\n",
       "    <tr style=\"text-align: right;\">\n",
       "      <th></th>\n",
       "      <th>obs</th>\n",
       "    </tr>\n",
       "  </thead>\n",
       "  <tbody>\n",
       "    <tr>\n",
       "      <th>0</th>\n",
       "      <td>615</td>\n",
       "    </tr>\n",
       "    <tr>\n",
       "      <th>1</th>\n",
       "      <td>76</td>\n",
       "    </tr>\n",
       "    <tr>\n",
       "      <th>2</th>\n",
       "      <td>314</td>\n",
       "    </tr>\n",
       "    <tr>\n",
       "      <th>3</th>\n",
       "      <td>10</td>\n",
       "    </tr>\n",
       "    <tr>\n",
       "      <th>4</th>\n",
       "      <td>892</td>\n",
       "    </tr>\n",
       "    <tr>\n",
       "      <th>5</th>\n",
       "      <td>50</td>\n",
       "    </tr>\n",
       "    <tr>\n",
       "      <th>6</th>\n",
       "      <td>6</td>\n",
       "    </tr>\n",
       "    <tr>\n",
       "      <th>7</th>\n",
       "      <td>922</td>\n",
       "    </tr>\n",
       "    <tr>\n",
       "      <th>8</th>\n",
       "      <td>954</td>\n",
       "    </tr>\n",
       "    <tr>\n",
       "      <th>9</th>\n",
       "      <td>548</td>\n",
       "    </tr>\n",
       "  </tbody>\n",
       "</table>\n",
       "</div>"
      ],
      "text/plain": [
       "   obs\n",
       "0  615\n",
       "1   76\n",
       "2  314\n",
       "3   10\n",
       "4  892\n",
       "5   50\n",
       "6    6\n",
       "7  922\n",
       "8  954\n",
       "9  548"
      ]
     },
     "execution_count": 68,
     "metadata": {},
     "output_type": "execute_result"
    }
   ],
   "source": [
    "X_example = pd.DataFrame({'obs': \n",
    "                          np.random.randint(0, 1000, 10)})\n",
    "X_example"
   ]
  },
  {
   "cell_type": "code",
   "execution_count": 69,
   "metadata": {
    "cell_style": "split",
    "slideshow": {
     "slide_type": "subslide"
    }
   },
   "outputs": [
    {
     "name": "stdout",
     "output_type": "stream",
     "text": [
      "train ix: [2 3 4 5 6 7 8 9] testix: [0 1]\n",
      "train ix: [0 1 4 5 6 7 8 9] testix: [2 3]\n",
      "train ix: [0 1 2 3 6 7 8 9] testix: [4 5]\n",
      "train ix: [0 1 2 3 4 5 8 9] testix: [6 7]\n",
      "train ix: [0 1 2 3 4 5 6 7] testix: [8 9]\n"
     ]
    }
   ],
   "source": [
    "kf = KFold(n_splits=5)\n",
    "for (ix_train, ix_test) in kf.split(X_example):\n",
    "    print(\"train ix:\", ix_train, \"testix:\", ix_test)"
   ]
  },
  {
   "cell_type": "code",
   "execution_count": 223,
   "metadata": {
    "cell_style": "split",
    "slideshow": {
     "slide_type": "subslide"
    }
   },
   "outputs": [
    {
     "name": "stdout",
     "output_type": "stream",
     "text": [
      "train ix: [0 2 3 4 5 6 7 9] test ix: [1 8]\n",
      "train ix: [1 2 3 4 6 7 8 9] test ix: [0 5]\n",
      "train ix: [0 1 3 4 5 6 8 9] test ix: [2 7]\n",
      "train ix: [0 1 2 3 5 6 7 8] test ix: [4 9]\n",
      "train ix: [0 1 2 4 5 7 8 9] test ix: [3 6]\n"
     ]
    }
   ],
   "source": [
    "kfs = KFold(n_splits=5, shuffle=True, random_state=42)\n",
    "for (ix_train, ix_test) in kfs.split(X_example):\n",
    "    print(\"train ix:\", ix_train, \"test ix:\", ix_test)"
   ]
  },
  {
   "cell_type": "code",
   "execution_count": 70,
   "metadata": {
    "slideshow": {
     "slide_type": "fragment"
    }
   },
   "outputs": [
    {
     "name": "stdout",
     "output_type": "stream",
     "text": [
      "Size X: 50, with X train: 30 and X test: 20\n"
     ]
    }
   ],
   "source": [
    "kf = KFold(n_splits=5, shuffle=True, random_state=42)\n",
    "print(f\"Size X: {len(X)}, with X train: {len(X_train)} and X test: {len(X_test)}\")"
   ]
  },
  {
   "cell_type": "code",
   "execution_count": 71,
   "metadata": {
    "slideshow": {
     "slide_type": "subslide"
    }
   },
   "outputs": [],
   "source": [
    "ml_models = {'lm': LinearRegression(),\n",
    "             'lm_deg2': Pipeline([('poly_transformer', PolynomialFeatures(degree=2)),\n",
    "                                  ('lm', LinearRegression())]),\n",
    "             'lm_deg5': Pipeline([('poly_transformer', PolynomialFeatures(degree=5)),\n",
    "                                  ('lm', LinearRegression())])}"
   ]
  },
  {
   "cell_type": "code",
   "execution_count": 226,
   "metadata": {
    "slideshow": {
     "slide_type": "fragment"
    }
   },
   "outputs": [],
   "source": [
    "#from sklearn.model_selection import StratifiedKFold"
   ]
  },
  {
   "cell_type": "code",
   "execution_count": 72,
   "metadata": {
    "slideshow": {
     "slide_type": "subslide"
    }
   },
   "outputs": [],
   "source": [
    "kf_results = []\n",
    "\n",
    "kfs = KFold(n_splits=10, shuffle=True, random_state=42)\n",
    "for i_f, (ix_train, ix_test) in enumerate(kfs.split(X_train)):\n",
    "    # Loop over models\n",
    "    for mod_name, mod in ml_models.items():\n",
    "        # Define training and testing folds\n",
    "        X_training_folds = X_train.iloc[ix_train]\n",
    "        y_training_folds = y_train.iloc[ix_train]\n",
    "        X_test_fold = X_train.iloc[ix_test]\n",
    "        y_test_fold = y_train.iloc[ix_test]\n",
    "        # Fit the model on the training folds\n",
    "        mod.fit(X_training_folds, y_training_folds)\n",
    "        # Test on both the training and testing folds to check for over-/under-fitting\n",
    "        y_pred_train = mod.predict(X_training_folds)\n",
    "        y_pred_test = mod.predict(X_test_fold)\n",
    "        # R2\n",
    "        kf_results.append({'model': mod_name, 'fold': i_f, 'stage': 'train', 'scorer': 'r2', \n",
    "                           'val': r2_score(y_training_folds, y_pred_train)})\n",
    "        kf_results.append({'model': mod_name, 'fold': i_f, 'stage': 'test', 'scorer': 'r2', \n",
    "                           'val': r2_score(y_test_fold, y_pred_test)})\n",
    "        # MSE\n",
    "        kf_results.append({'model': mod_name, 'fold': i_f, 'stage': 'train', 'scorer': 'MSE', \n",
    "                           'val': -mean_squared_error(y_training_folds, y_pred_train)})\n",
    "        kf_results.append({'model': mod_name, 'fold': i_f, 'stage': 'test', 'scorer': 'MSE', \n",
    "                           'val': -mean_squared_error(y_test_fold, y_pred_test)})\n",
    "kf_results_df = pd.DataFrame(kf_results)"
   ]
  },
  {
   "cell_type": "code",
   "execution_count": 73,
   "metadata": {
    "slideshow": {
     "slide_type": "subslide"
    }
   },
   "outputs": [
    {
     "data": {
      "image/png": "[encoded data removed]",
      "text/plain": [
       "<Figure size 726.645x216 with 2 Axes>"
      ]
     },
     "metadata": {
      "needs_background": "light"
     },
     "output_type": "display_data"
    },
    {
     "data": {
      "image/png": "[encoded data removed]",
      "text/plain": [
       "<Figure size 726.645x216 with 2 Axes>"
      ]
     },
     "metadata": {
      "needs_background": "light"
     },
     "output_type": "display_data"
    },
    {
     "data": {
      "image/png": "[encoded data removed]",
      "text/plain": [
       "<Figure size 726.645x216 with 2 Axes>"
      ]
     },
     "metadata": {
      "needs_background": "light"
     },
     "output_type": "display_data"
    }
   ],
   "source": [
    "for mod_name in ml_models.keys():\n",
    "    kf_df = kf_results_df.loc[kf_results_df['model'] == mod_name]\n",
    "    with sns.plotting_context(\"notebook\", font_scale=1.2):\n",
    "        g = sns.catplot(x=\"fold\", y=\"val\", hue=\"stage\", col=\"scorer\", data=kf_df, \n",
    "                        kind=\"bar\", sharey=False, height=3, aspect=1.5)\n",
    "        g.axes[0,0].set_ylim(-0.2,1)\n",
    "        #g.axes[0,1].set_ylim(0, 45)\n",
    "        g.fig.suptitle(mod_name, y=1.05)"
   ]
  },
  {
   "cell_type": "code",
   "execution_count": 74,
   "metadata": {
    "code_folding": [
     0
    ],
    "slideshow": {
     "slide_type": "subslide"
    }
   },
   "outputs": [
    {
     "data": {
      "image/png": "[encoded data removed]",
      "text/plain": [
       "<Figure size 726.645x216 with 2 Axes>"
      ]
     },
     "metadata": {
      "needs_background": "light"
     },
     "output_type": "display_data"
    },
    {
     "data": {
      "image/png": "[encoded data removed]",
      "text/plain": [
       "<Figure size 726.645x216 with 2 Axes>"
      ]
     },
     "metadata": {
      "needs_background": "light"
     },
     "output_type": "display_data"
    }
   ],
   "source": [
    "with sns.plotting_context(\"notebook\", font_scale=1.2):\n",
    "    g = sns.catplot(x=\"model\", y=\"val\", hue=\"stage\", col=\"scorer\", data=kf_results_df, \n",
    "                    kind=\"box\", sharey=False, height=3, aspect=1.5)\n",
    "    g.axes[0, 0].set_ylim(-0.2, 1)\n",
    "    g.axes[0, 1].set_ylim(-50, 0)\n",
    "    g.fig.suptitle(\"Score accross fold across models\", y=1.05)\n",
    "    g = sns.catplot(x=\"model\", y=\"val\", hue=\"stage\", col=\"scorer\", data=kf_results_df, \n",
    "                    kind=\"box\", sharey=False, height=3, aspect=1.5)\n",
    "    g.axes[0, 0].set_ylim(0.45, 1)\n",
    "    g.axes[0, 1].set_ylim(-18, 0)\n",
    "    g.fig.suptitle(\"Close up on polynomial models\", y=1.05)"
   ]
  },
  {
   "cell_type": "markdown",
   "metadata": {
    "slideshow": {
     "slide_type": "slide"
    }
   },
   "source": [
    "#### `sklearn` helps to automate common operations "
   ]
  },
  {
   "cell_type": "code",
   "execution_count": 75,
   "metadata": {
    "scrolled": true,
    "slideshow": {
     "slide_type": "fragment"
    }
   },
   "outputs": [],
   "source": [
    "from sklearn.model_selection import cross_val_score"
   ]
  },
  {
   "cell_type": "code",
   "execution_count": 236,
   "metadata": {
    "slideshow": {
     "slide_type": "fragment"
    }
   },
   "outputs": [],
   "source": [
    "cross_val_score?"
   ]
  },
  {
   "cell_type": "code",
   "execution_count": 76,
   "metadata": {
    "slideshow": {
     "slide_type": "fragment"
    }
   },
   "outputs": [],
   "source": [
    "from sklearn.metrics import fbeta_score, make_scorer\n",
    "mse_scorer = make_scorer(mean_squared_error, greater_is_better=False)"
   ]
  },
  {
   "cell_type": "code",
   "execution_count": 77,
   "metadata": {
    "slideshow": {
     "slide_type": "subslide"
    }
   },
   "outputs": [],
   "source": [
    "ml_models = {'lm': LinearRegression(),\n",
    "             'lm_deg2': Pipeline([('poly_transformer', PolynomialFeatures(degree=2)),\n",
    "                                  ('lm', LinearRegression())]),\n",
    "             'lm_deg5': Pipeline([('poly_transformer', PolynomialFeatures(degree=5)),\n",
    "                                  ('lm', LinearRegression())])}\n",
    "# Get cv train AND test scores\n",
    "cv_test_scores = {}\n",
    "for mod_name in ml_models.keys():\n",
    "    cv_test_scores[mod_name] = cross_val_score(ml_models[mod_name], X_train, y_train, \n",
    "                                               cv=kfs, scoring=mse_scorer, n_jobs=-1)\n",
    "cv_test_scores_df = pd.DataFrame(cv_test_scores)"
   ]
  },
  {
   "cell_type": "code",
   "execution_count": 78,
   "metadata": {
    "scrolled": true,
    "slideshow": {
     "slide_type": "subslide"
    }
   },
   "outputs": [
    {
     "data": {
      "image/png": "[encoded data removed]",
      "text/plain": [
       "<Figure size 432x288 with 1 Axes>"
      ]
     },
     "metadata": {
      "needs_background": "light"
     },
     "output_type": "display_data"
    }
   ],
   "source": [
    "cv_test_scores_df.boxplot()\n",
    "plt.title('Negative MSE for the three models tested (larger is better)');"
   ]
  },
  {
   "cell_type": "markdown",
   "metadata": {
    "slideshow": {
     "slide_type": "subslide"
    }
   },
   "source": [
    "##### Want even more with even less code?"
   ]
  },
  {
   "cell_type": "code",
   "execution_count": 79,
   "metadata": {
    "slideshow": {
     "slide_type": "fragment"
    }
   },
   "outputs": [],
   "source": [
    "from sklearn.model_selection import cross_validate"
   ]
  },
  {
   "cell_type": "markdown",
   "metadata": {
    "slideshow": {
     "slide_type": "fragment"
    }
   },
   "source": [
    "`cross_validate` returns train *and* test scores on *several* metrics"
   ]
  },
  {
   "cell_type": "code",
   "execution_count": 80,
   "metadata": {
    "slideshow": {
     "slide_type": "fragment"
    }
   },
   "outputs": [],
   "source": [
    "cross_validate?"
   ]
  },
  {
   "cell_type": "code",
   "execution_count": 81,
   "metadata": {
    "slideshow": {
     "slide_type": "subslide"
    }
   },
   "outputs": [],
   "source": [
    "ml_models = {'lm': LinearRegression(),\n",
    "             'lm_deg2': Pipeline([('poly_transformer', PolynomialFeatures(degree=2)),\n",
    "                                  ('lm', LinearRegression())]),\n",
    "             'lm_deg5': Pipeline([('poly_transformer', PolynomialFeatures(degree=5)),\n",
    "                                  ('lm', LinearRegression())])}\n",
    "# Get cv train AND test scores\n",
    "cv_scores = {}\n",
    "for mod_name in ml_models.keys():\n",
    "    cv_scores[mod_name] = cross_validate(ml_models[mod_name], X_train, y_train, cv=kfs, \n",
    "                                         scoring=['r2', 'neg_mean_squared_error'], \n",
    "                                         return_train_score=True, n_jobs=-1)"
   ]
  },
  {
   "cell_type": "code",
   "execution_count": 82,
   "metadata": {
    "code_folding": [
     0
    ],
    "slideshow": {
     "slide_type": "skip"
    }
   },
   "outputs": [],
   "source": [
    "def crossval_to_df(cv_dict):\n",
    "    crossval_results = []\n",
    "    for model in cv_dict.keys():\n",
    "        for scorer in cv_dict[model].keys():\n",
    "            if scorer.startswith('train_'):\n",
    "                score = scorer.replace('train_', '')\n",
    "                for i_val, val in enumerate(cv_dict[model][scorer]):\n",
    "                    crossval_results.append({'model': model, 'fold': i_val, 'stage': 'train', \n",
    "                                             'scorer': score, 'val': val})\n",
    "            elif scorer.startswith('test_'):\n",
    "                score = scorer.replace('test_', '')\n",
    "                for i_val, val in enumerate(cv_dict[model][scorer]):\n",
    "                    crossval_results.append({'model': model, 'fold': i_val, 'stage': 'test', \n",
    "                                             'scorer': score, 'val': val})\n",
    "    return pd.DataFrame(crossval_results)"
   ]
  },
  {
   "cell_type": "code",
   "execution_count": 83,
   "metadata": {
    "code_folding": [
     1
    ],
    "slideshow": {
     "slide_type": "subslide"
    }
   },
   "outputs": [
    {
     "data": {
      "image/png": "[encoded data removed]",
      "text/plain": [
       "<Figure size 726.645x216 with 2 Axes>"
      ]
     },
     "metadata": {
      "needs_background": "light"
     },
     "output_type": "display_data"
    },
    {
     "data": {
      "image/png": "[encoded data removed]",
      "text/plain": [
       "<Figure size 726.645x216 with 2 Axes>"
      ]
     },
     "metadata": {
      "needs_background": "light"
     },
     "output_type": "display_data"
    },
    {
     "data": {
      "image/png": "[encoded data removed]",
      "text/plain": [
       "<Figure size 726.645x216 with 2 Axes>"
      ]
     },
     "metadata": {
      "needs_background": "light"
     },
     "output_type": "display_data"
    }
   ],
   "source": [
    "crossval_df = crossval_to_df(cv_scores)\n",
    "for mod_name in crossval_df['model'].unique():\n",
    "    kf_df = crossval_df.loc[crossval_df['model'] == mod_name]\n",
    "    with sns.plotting_context(\"notebook\", font_scale=1.2):\n",
    "        g = sns.catplot(x=\"fold\", y=\"val\", hue=\"stage\", col=\"scorer\", data=crossval_df,\n",
    "                        kind=\"bar\", sharey=False, height=3, aspect=1.5, ci=None)\n",
    "        g.axes[0,0].set_ylim(-0.2,1)\n",
    "        g.axes[0,1].set_ylim(-45, 0)\n",
    "        g.fig.suptitle(mod_name, y=1.05)"
   ]
  }
 ],
 "metadata": {
  "kernelspec": {
   "display_name": "Python [conda env:shared-ds38]",
   "language": "python",
   "name": "conda-env-shared-ds38-py"
  },
  "language_info": {
   "codemirror_mode": {
    "name": "ipython",
    "version": 3
   },
   "file_extension": ".py",
   "mimetype": "text/x-python",
   "name": "python",
   "nbconvert_exporter": "python",
   "pygments_lexer": "ipython3",
   "version": "3.8.6"
  },
  "toc": {
   "base_numbering": 1,
   "nav_menu": {},
   "number_sections": true,
   "sideBar": true,
   "skip_h1_title": false,
   "title_cell": "Table of Contents",
   "title_sidebar": "Contents",
   "toc_cell": false,
   "toc_position": {},
   "toc_section_display": true,
   "toc_window_display": false
  },
  "varInspector": {
   "cols": {
    "lenName": 16,
    "lenType": 16,
    "lenVar": 40
   },
   "kernels_config": {
    "python": {
     "delete_cmd_postfix": "",
     "delete_cmd_prefix": "del ",
     "library": "var_list.py",
     "varRefreshCmd": "print(var_dic_list())"
    },
    "r": {
     "delete_cmd_postfix": ") ",
     "delete_cmd_prefix": "rm(",
     "library": "var_list.r",
     "varRefreshCmd": "cat(var_dic_list()) "
    }
   },
   "oldHeight": 760,
   "position": {
    "height": "40px",
    "left": "1650px",
    "right": "20px",
    "top": "120px",
    "width": "250px"
   },
   "types_to_exclude": [
    "module",
    "function",
    "builtin_function_or_method",
    "instance",
    "_Feature"
   ],
   "varInspector_section_display": "none",
   "window_display": false
  }
 },
 "nbformat": 4,
 "nbformat_minor": 4
}
